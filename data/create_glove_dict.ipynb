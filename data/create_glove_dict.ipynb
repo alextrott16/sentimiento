{
 "cells": [
  {
   "cell_type": "code",
   "execution_count": 1,
   "metadata": {
    "collapsed": false
   },
   "outputs": [],
   "source": [
    "import glover"
   ]
  },
  {
   "cell_type": "code",
   "execution_count": 2,
   "metadata": {
    "collapsed": false
   },
   "outputs": [
    {
     "name": "stdout",
     "output_type": "stream",
     "text": [
      "100% complete; 72.3140912056 seconds.\n",
      "Done!\n"
     ]
    }
   ],
   "source": [
    "G = glover.glove()"
   ]
  },
  {
   "cell_type": "code",
   "execution_count": 62,
   "metadata": {
    "collapsed": true
   },
   "outputs": [],
   "source": [
    "import re\n",
    "import numpy as np\n",
    "import cPickle\n",
    "import time\n",
    "import sys\n",
    "from IPython.display import clear_output\n",
    "\n",
    "\n",
    "# Import each word and vector as text\n",
    "with open('glove_840B_300d.txt', 'r') as f:\n",
    "    GV = [line.strip() for line in f]\n",
    "\n",
    "    \n",
    "# Display the progress every this many\n",
    "disp_every = 1000\n",
    "\n",
    "\n",
    "# Initialize your storage dudes\n",
    "N = len(GV)\n",
    "K = [None]*N\n",
    "V = np.zeros(shape=(N, 300))\n",
    "\n",
    "\n",
    "# Step through every word\n",
    "start = time.time()\n",
    "for i, gv in enumerate(GV):\n",
    "    # Find the word\n",
    "    m = re.match('\\S+',gv)\n",
    "    \n",
    "    # Store the word at this index\n",
    "    K[i] = m.group()\n",
    "    # Store the vector at this index\n",
    "    values = re.split('\\s', gv[m.end()+1:])\n",
    "    V[i,] = [np.float(v) for v in values]\n",
    "    \n",
    "    \n",
    "    # Display\n",
    "    if ((i+1) % disp_every) == 0:\n",
    "        dur = time.time()-start\n",
    "        pcnt_comp = 100.*i/float(N)\n",
    "        rate = pcnt_comp/dur\n",
    "        time_left = (100. - pcnt_comp)/rate\n",
    "        \n",
    "        pc = np.round(10.*pcnt_comp)/10.\n",
    "        tl = np.round(100.*time_left)/100.\n",
    "        clear_output()\n",
    "        print '{}% complete; ~{} seconds left.'.format(pc, tl)\n",
    "        sys.stdout.flush()\n",
    "        \n",
    "\n",
    "# One last display\n",
    "dur = time.time()-start\n",
    "clear_output()\n",
    "print '100% complete; {} seconds.'.format(dur)\n",
    "print 'Done!'\n",
    "\n",
    "\n",
    "# Final touch\n",
    "lookup = dict( zip(K, range(len(K))) )\n",
    "\n",
    "\n",
    "# Cleanup memory\n",
    "del GV\n",
    "\n",
    "\n",
    "\n",
    "print ' '\n",
    "print 'Saving. Expect this to take a while (5-10 minutes).'\n",
    "\n",
    "\n",
    "# Save the vector dictionary\n",
    "save_path = 'glove_840B_300d.pkl'\n",
    "\n",
    "save_dict = {'lookup': lookup, 'w_mat':V}\n",
    "\n",
    "with open(save_path, 'wb') as f:\n",
    "    cPickle.dump(save_dict, f)"
   ]
  }
 ],
 "metadata": {
  "kernelspec": {
   "display_name": "Python 2",
   "language": "python",
   "name": "python2"
  },
  "language_info": {
   "codemirror_mode": {
    "name": "ipython",
    "version": 2
   },
   "file_extension": ".py",
   "mimetype": "text/x-python",
   "name": "python",
   "nbconvert_exporter": "python",
   "pygments_lexer": "ipython2",
   "version": "2.7.9"
  }
 },
 "nbformat": 4,
 "nbformat_minor": 0
}
